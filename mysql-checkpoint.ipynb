{
 "cells": [
  {
   "cell_type": "code",
   "execution_count": 26,
   "id": "e8d40327-9f34-4771-9792-41c340de5514",
   "metadata": {},
   "outputs": [],
   "source": [
    "import mysql.connector"
   ]
  },
  {
   "cell_type": "code",
   "execution_count": 38,
   "id": "7c73bfda-1185-4c18-9178-c262540d3ca0",
   "metadata": {},
   "outputs": [],
   "source": [
    "mydb = mysql.connector.connect(\n",
    "    host = \"localhost\",\n",
    "    user = \"root\",\n",
    "    password = \"Indranibk95@\",\n",
    "    database = \"pysql\",\n",
    "    auth_plugin = 'mysql_native_password')\n",
    "cursor = mydb.cursor()\n",
    "mydb.commit()"
   ]
  },
  {
   "cell_type": "code",
   "execution_count": 39,
   "id": "a8e44b7b-623b-42ba-8678-4815b8035504",
   "metadata": {},
   "outputs": [
    {
     "name": "stdout",
     "output_type": "stream",
     "text": [
      "Database Connected\n"
     ]
    }
   ],
   "source": [
    "if mydb.is_connected():\n",
    "    print(\"Database Connected\")"
   ]
  },
  {
   "cell_type": "code",
   "execution_count": 41,
   "id": "5cd3625d-1166-4fdc-b836-95b40f97638a",
   "metadata": {},
   "outputs": [],
   "source": [
    "#cursor.execute(\"CREATE DATABASE employee_data\")\n",
    "#print(\"Database created successfully.....\")"
   ]
  },
  {
   "cell_type": "code",
   "execution_count": 54,
   "id": "02ec6966-5bf5-47b9-b3f4-4b3a469ac9a2",
   "metadata": {},
   "outputs": [
    {
     "name": "stdout",
     "output_type": "stream",
     "text": [
      "Table Created Successfully\n"
     ]
    }
   ],
   "source": [
    "mydb = mysql.connector.connect(\n",
    "    host = \"localhost\",\n",
    "    user = \"root\",\n",
    "    password = \"Indranibk95@\",\n",
    "    database = \"employee_data\",\n",
    "    auth_plugin = 'mysql_native_password')\n",
    "cursor = mydb.cursor()\n",
    "drop_query=\"DROP TABLE IF EXISTS customers\"\n",
    "cursor.execute(drop_query)\n",
    "sql = '''CREATE TABLE IF NOT EXISTS customers(customer_id INT AUTO_INCREMENT PRIMARY KEY,\n",
    "        name VARCHAR(255),\n",
    "        address VARCHAR(255))'''\n",
    "cursor.execute(sql)\n",
    "print(\"Table Created Successfully\")\n",
    "mydb.commit()"
   ]
  },
  {
   "cell_type": "code",
   "execution_count": 55,
   "id": "5d8c4cb0-d024-4d68-b42d-a5399b9946cf",
   "metadata": {},
   "outputs": [
    {
     "name": "stdout",
     "output_type": "stream",
     "text": [
      "1 data added\n"
     ]
    }
   ],
   "source": [
    "mydb = mysql.connector.connect(\n",
    "    host = \"localhost\",\n",
    "    user = \"root\",\n",
    "    password = \"Indranibk95@\",\n",
    "    database = \"employee_data\",\n",
    "    auth_plugin = 'mysql_native_password')\n",
    "cursor = mydb.cursor()\n",
    "sql = ''' INSERT INTO customers(name, address) VALUES (%s, %s)'''\n",
    "val = (\"Indra\", \"Texas\")\n",
    "cursor.execute(sql, val)\n",
    "mydb.commit()\n",
    "print(\"{} data added\".format(cursor.rowcount))"
   ]
  },
  {
   "cell_type": "code",
   "execution_count": 56,
   "id": "586a5875-fe7f-405c-967b-e74eadef4ac6",
   "metadata": {},
   "outputs": [
    {
     "name": "stdout",
     "output_type": "stream",
     "text": [
      "1  data inserted\n"
     ]
    }
   ],
   "source": [
    "mydb = mysql.connector.connect(\n",
    "    host = \"localhost\",\n",
    "    user = \"root\",\n",
    "    password = \"Indranibk95@\",\n",
    "    database = \"employee_data\",\n",
    "    auth_plugin = 'mysql_native_password')\n",
    "cursor = mydb.cursor()\n",
    "sql = '''INSERT INTO customers(name, address) VALUES (%s, %s)'''\n",
    "val = [\n",
    "       (\"dandy\", \"laksh\"),\n",
    "       (\"abi\", \"vlk\"),\n",
    "       (\"nani\", \"kolt\"),\n",
    "       (\"rud\", \"chn\"),\n",
    "        (\"shale\", \"madr\")]\n",
    "for i in val:\n",
    "    cursor.execute(sql, i)\n",
    "\n",
    "mydb.commit()\n",
    "print(\"{}  data inserted\".format(cursor.rowcount))"
   ]
  },
  {
   "cell_type": "code",
   "execution_count": 57,
   "id": "a5d1d5c2-f191-4eeb-abed-efb787e23b13",
   "metadata": {},
   "outputs": [
    {
     "name": "stdout",
     "output_type": "stream",
     "text": [
      "(1, 'Indra', 'Texas')\n"
     ]
    }
   ],
   "source": [
    "mydb = mysql.connector.connect(\n",
    "    host = \"localhost\",\n",
    "    user = \"root\",\n",
    "    password = \"Indranibk95@\",\n",
    "    database = \"employee_data\",\n",
    "    auth_plugin = 'mysql_native_password')\n",
    "cursor = mydb.cursor()\n",
    "sql = '''SELECT * FROM customers'''\n",
    "cursor.execute(sql)\n",
    "result = cursor.fetchone()\n",
    "print(result)"
   ]
  },
  {
   "cell_type": "code",
   "execution_count": 58,
   "id": "08612786-6e4d-4603-8460-ea8c6962e0fa",
   "metadata": {},
   "outputs": [
    {
     "name": "stdout",
     "output_type": "stream",
     "text": [
      "[(1, 'Indra', 'Texas'), (2, 'dandy', 'laksh'), (3, 'abi', 'vlk'), (4, 'nani', 'kolt'), (5, 'rud', 'chn'), (6, 'shale', 'madr')]\n"
     ]
    }
   ],
   "source": [
    "mydb = mysql.connector.connect(\n",
    "    host = \"localhost\",\n",
    "    user = \"root\",\n",
    "    password = \"Indranibk95@\",\n",
    "    database = \"employee_data\",\n",
    "    auth_plugin = 'mysql_native_password')\n",
    "cursor = mydb.cursor()\n",
    "sql = '''SELECT * FROM customers'''\n",
    "cursor.execute(sql)\n",
    "result = cursor.fetchall()\n",
    "print(result)"
   ]
  },
  {
   "cell_type": "code",
   "execution_count": 59,
   "id": "10c0bf53-cfd1-44d0-93c2-994ac5596d48",
   "metadata": {},
   "outputs": [
    {
     "name": "stdout",
     "output_type": "stream",
     "text": [
      "0 data deleted\n"
     ]
    }
   ],
   "source": [
    "mydb = mysql.connector.connect(\n",
    "    host = \"localhost\",\n",
    "    user = \"root\",\n",
    "    password = \"Indranibk95@\",\n",
    "    database = \"employee_data\",\n",
    "    auth_plugin = 'mysql_native_password')\n",
    "cursor = mydb.cursor()\n",
    "sql = '''DELETE FROM customers WHERE customer_id=%s'''\n",
    "val = (14, )\n",
    "cursor.execute(sql, val)\n",
    "mydb.commit()\n",
    "print(\"{} data deleted\".format(cursor.rowcount))"
   ]
  },
  {
   "cell_type": "code",
   "execution_count": 60,
   "id": "d4bf858d-4038-4996-bd6f-323a17794143",
   "metadata": {},
   "outputs": [
    {
     "name": "stdout",
     "output_type": "stream",
     "text": [
      "1 data Updated\n"
     ]
    }
   ],
   "source": [
    "mydb = mysql.connector.connect(\n",
    "    host = \"localhost\",\n",
    "    user = \"root\",\n",
    "    password = \"Indranibk95@\",\n",
    "    database = \"employee_data\",\n",
    "    auth_plugin = 'mysql_native_password')\n",
    "cursor = mydb.cursor()\n",
    "sql = '''UPDATE customers SET name=%s, address=%s WHERE customer_id=%s'''\n",
    "val=(\"ashi\", \"beach\", 2)\n",
    "cursor.execute(sql, val)\n",
    "mydb.commit()\n",
    "print(\"{} data Updated\".format(cursor.rowcount))"
   ]
  },
  {
   "cell_type": "code",
   "execution_count": null,
   "id": "7971b5be-f0c2-4c6a-bcd5-f1787892591e",
   "metadata": {},
   "outputs": [
    {
     "name": "stdout",
     "output_type": "stream",
     "text": [
      "Python Database\n",
      "1. Insert Data\n",
      "2. Show Data\n",
      "3. Update Data\n",
      "4. Delete Data\n",
      "5. Search Data\n",
      "0. Out\n"
     ]
    },
    {
     "name": "stdin",
     "output_type": "stream",
     "text": [
      "Choose menu 1\n",
      "Enter Name:  rudra\n",
      "Enter Address:  laksh\n"
     ]
    },
    {
     "name": "stdout",
     "output_type": "stream",
     "text": [
      "1 Data Inserted\n",
      "Python Database\n",
      "1. Insert Data\n",
      "2. Show Data\n",
      "3. Update Data\n",
      "4. Delete Data\n",
      "5. Search Data\n",
      "0. Out\n"
     ]
    },
    {
     "name": "stdin",
     "output_type": "stream",
     "text": [
      "Choose menu 2\n"
     ]
    },
    {
     "name": "stdout",
     "output_type": "stream",
     "text": [
      "(1, 'Indra', 'Texas')\n",
      "(2, 'ashi', 'beach')\n",
      "(3, 'abi', 'vlk')\n",
      "(4, 'nani', 'kolt')\n",
      "(5, 'rud', 'chn')\n",
      "(6, 'shale', 'madr')\n",
      "(7, 'indra', 'vlk')\n",
      "(8, 'ind', 'ch')\n",
      "(9, 'dev', 'kmn')\n",
      "(10, 'rudra', 'laksh')\n",
      "Python Database\n",
      "1. Insert Data\n",
      "2. Show Data\n",
      "3. Update Data\n",
      "4. Delete Data\n",
      "5. Search Data\n",
      "0. Out\n"
     ]
    },
    {
     "name": "stdin",
     "output_type": "stream",
     "text": [
      "Choose menu 3\n"
     ]
    },
    {
     "name": "stdout",
     "output_type": "stream",
     "text": [
      "(1, 'Indra', 'Texas')\n",
      "(2, 'ashi', 'beach')\n",
      "(3, 'abi', 'vlk')\n",
      "(4, 'nani', 'kolt')\n",
      "(5, 'rud', 'chn')\n",
      "(6, 'shale', 'madr')\n",
      "(7, 'indra', 'vlk')\n",
      "(8, 'ind', 'ch')\n",
      "(9, 'dev', 'kmn')\n",
      "(10, 'rudra', 'laksh')\n"
     ]
    },
    {
     "name": "stdin",
     "output_type": "stream",
     "text": [
      "Choose customer id: 2\n",
      "Name:  ash\n",
      "Address:  bch\n"
     ]
    },
    {
     "name": "stdout",
     "output_type": "stream",
     "text": [
      "1 Data Successfully Changed: \n",
      "Python Database\n",
      "1. Insert Data\n",
      "2. Show Data\n",
      "3. Update Data\n",
      "4. Delete Data\n",
      "5. Search Data\n",
      "0. Out\n"
     ]
    },
    {
     "name": "stdin",
     "output_type": "stream",
     "text": [
      "Choose menu 4\n"
     ]
    },
    {
     "name": "stdout",
     "output_type": "stream",
     "text": [
      "(1, 'Indra', 'Texas')\n",
      "(2, 'ash', 'bch')\n",
      "(3, 'abi', 'vlk')\n",
      "(4, 'nani', 'kolt')\n",
      "(5, 'rud', 'chn')\n",
      "(6, 'shale', 'madr')\n",
      "(7, 'indra', 'vlk')\n",
      "(8, 'ind', 'ch')\n",
      "(9, 'dev', 'kmn')\n",
      "(10, 'rudra', 'laksh')\n"
     ]
    },
    {
     "name": "stdin",
     "output_type": "stream",
     "text": [
      "choose customer_id:  8\n"
     ]
    },
    {
     "name": "stdout",
     "output_type": "stream",
     "text": [
      "1 Data Successfully deleted\n",
      "Python Database\n",
      "1. Insert Data\n",
      "2. Show Data\n",
      "3. Update Data\n",
      "4. Delete Data\n",
      "5. Search Data\n",
      "0. Out\n"
     ]
    },
    {
     "name": "stdin",
     "output_type": "stream",
     "text": [
      "Choose menu 5\n",
      "Keyword:  kmn\n"
     ]
    },
    {
     "name": "stdout",
     "output_type": "stream",
     "text": [
      "(9, 'dev', 'kmn')\n",
      "Python Database\n",
      "1. Insert Data\n",
      "2. Show Data\n",
      "3. Update Data\n",
      "4. Delete Data\n",
      "5. Search Data\n",
      "0. Out\n"
     ]
    },
    {
     "name": "stdin",
     "output_type": "stream",
     "text": [
      "Choose menu 0\n"
     ]
    },
    {
     "name": "stdout",
     "output_type": "stream",
     "text": [
      "Python Database\n",
      "1. Insert Data\n",
      "2. Show Data\n",
      "3. Update Data\n",
      "4. Delete Data\n",
      "5. Search Data\n",
      "0. Out\n"
     ]
    }
   ],
   "source": [
    "#CURDS APP\n",
    "\n",
    "import os\n",
    "mydb = mysql.connector.connect(\n",
    "    host = \"localhost\",\n",
    "    user = \"root\",\n",
    "    password = \"Indranibk95@\",\n",
    "    database = \"employee_data\",\n",
    "    auth_plugin = 'mysql_native_password')\n",
    "cursor = mydb.cursor()\n",
    "\n",
    "def insert_data(mydb):\n",
    "    name=input(\"Enter Name: \")\n",
    "    address=input(\"Enter Address: \")\n",
    "    val=(name, address)\n",
    "    cursor=mydb.cursor()\n",
    "    sql='''INSERT INTO customers (name, address) VALUES (%s, %s)'''\n",
    "    cursor.execute(sql, val)\n",
    "    mydb.commit()\n",
    "    print(\"{} Data Inserted\".format(cursor.rowcount))\n",
    "\n",
    "def show_data(mydb):\n",
    "    cursor=mydb.cursor()\n",
    "    sql='''SELECT * FROM customers'''\n",
    "    cursor.execute(sql)\n",
    "    result=cursor.fetchall()\n",
    "    if cursor.rowcount < 0:\n",
    "        print(\"Empty database\")\n",
    "    else:\n",
    "        for data in result:\n",
    "            print(data)\n",
    "\n",
    "def update_data(mydb):\n",
    "    cursor=mydb.cursor()\n",
    "    show_data(mydb)\n",
    "    customer_id=input(\"Choose customer id:\")\n",
    "    name=input(\"Name: \")\n",
    "    address=input(\"Address: \")\n",
    "    sql='''UPDATE customers SET name=%s, address=%s WHERE customer_id=%s'''\n",
    "    val=(name, address, customer_id)\n",
    "    cursor.execute(sql, val)\n",
    "    mydb.commit()\n",
    "    print(\"{} Data Successfully Changed: \".format(cursor.rowcount))\n",
    "\n",
    "def delete_data(mydb):\n",
    "    cursor=mydb.cursor()\n",
    "    show_data(mydb)\n",
    "    customer_id=input(\"choose customer_id: \")\n",
    "    sql='''DELETE FROM customers WHERE customer_id=%s'''\n",
    "    val=(customer_id,)\n",
    "    cursor.execute(sql,val)\n",
    "    mydb.commit()\n",
    "    print(\"{} Data Successfully deleted\".format(cursor.rowcount))\n",
    "\n",
    "def search_data(mydb):\n",
    "    cursor=mydb.cursor()\n",
    "    keyword = input(\"Keyword: \")\n",
    "    sql='''SELECT * FROM customers WHERE name LIKE %s OR address LIKE %s'''\n",
    "    val=(\"%{}%\".format(keyword), \"%{}%\".format(keyword))\n",
    "    cursor.execute(sql, val)\n",
    "    result=cursor.fetchall()\n",
    "\n",
    "    if cursor.rowcount < 0:\n",
    "        print(\"No data Found\")\n",
    "    else:\n",
    "        for data in result:\n",
    "            print(data)\n",
    "\n",
    "\n",
    "def show_menu(db):\n",
    "    print(\"Python Database\")\n",
    "    print(\"1. Insert Data\")\n",
    "    print(\"2. Show Data\")\n",
    "    print(\"3. Update Data\")\n",
    "    print(\"4. Delete Data\")\n",
    "    print(\"5. Search Data\")\n",
    "    print(\"0. Out\")\n",
    "\n",
    "    menu= input(\"Choose menu\")\n",
    "    os.system(\"clear\")\n",
    "\n",
    "    if menu == \"1\":\n",
    "        insert_data(mydb)\n",
    "    elif menu == \"2\":\n",
    "        show_data(mydb)\n",
    "    elif menu == \"3\":\n",
    "        update_data(mydb)\n",
    "    elif menu == \"4\":\n",
    "        delete_data(mydb)\n",
    "    elif menu == \"5\":\n",
    "        search_data(mydb)\n",
    "    elif menu == \"0\":\n",
    "        exit()\n",
    "    else:\n",
    "        print(\"Wrong Option\")\n",
    "if __name__==\"__main__\":\n",
    "    while(True):\n",
    "        show_menu(mydb)"
   ]
  },
  {
   "cell_type": "code",
   "execution_count": null,
   "id": "1ffba56d-73c7-43c6-9245-60cbfdf599be",
   "metadata": {},
   "outputs": [],
   "source": []
  },
  {
   "cell_type": "code",
   "execution_count": null,
   "id": "8fa8f0c4-b4cb-4de6-8500-ea23c1b7683e",
   "metadata": {},
   "outputs": [],
   "source": []
  },
  {
   "cell_type": "code",
   "execution_count": null,
   "id": "75a00f14-e9be-46ee-a66e-19cb077c76ab",
   "metadata": {},
   "outputs": [],
   "source": []
  },
  {
   "cell_type": "code",
   "execution_count": null,
   "id": "fab7bbb6-10ed-4346-a44f-11eee7a41055",
   "metadata": {},
   "outputs": [],
   "source": []
  },
  {
   "cell_type": "code",
   "execution_count": null,
   "id": "2e05e4f0-76ee-4deb-8759-43f55d81f290",
   "metadata": {},
   "outputs": [],
   "source": []
  },
  {
   "cell_type": "code",
   "execution_count": null,
   "id": "8343b813-738c-4d3d-a0ef-bb9c72538f46",
   "metadata": {},
   "outputs": [],
   "source": []
  },
  {
   "cell_type": "code",
   "execution_count": null,
   "id": "27645854-543e-4b90-a58c-371c64a88302",
   "metadata": {},
   "outputs": [],
   "source": []
  },
  {
   "cell_type": "code",
   "execution_count": null,
   "id": "feaa0087-1b59-4432-b785-d368d393a827",
   "metadata": {},
   "outputs": [],
   "source": []
  },
  {
   "cell_type": "code",
   "execution_count": null,
   "id": "13c2def2-2991-4516-89a0-b51662852fd6",
   "metadata": {},
   "outputs": [],
   "source": []
  },
  {
   "cell_type": "code",
   "execution_count": null,
   "id": "6ea2c31c-bfd0-46a4-b4c9-713e01b96504",
   "metadata": {},
   "outputs": [],
   "source": []
  },
  {
   "cell_type": "code",
   "execution_count": null,
   "id": "7917a3e7-d4b3-4abe-beb1-ad01a553ab71",
   "metadata": {},
   "outputs": [],
   "source": []
  }
 ],
 "metadata": {
  "kernelspec": {
   "display_name": "Python 3 (ipykernel)",
   "language": "python",
   "name": "python3"
  },
  "language_info": {
   "codemirror_mode": {
    "name": "ipython",
    "version": 3
   },
   "file_extension": ".py",
   "mimetype": "text/x-python",
   "name": "python",
   "nbconvert_exporter": "python",
   "pygments_lexer": "ipython3",
   "version": "3.11.5"
  }
 },
 "nbformat": 4,
 "nbformat_minor": 5
}
